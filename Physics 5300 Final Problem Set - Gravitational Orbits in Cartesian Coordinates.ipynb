{
 "cells": [
  {
   "cell_type": "markdown",
   "id": "f67a12df",
   "metadata": {},
   "source": [
    "# Physics 5300 Final Problem Set - Gravitational Orbits in Cartesian Coordinates\n",
    "\n",
    "#### Cassie Moats"
   ]
  },
  {
   "cell_type": "markdown",
   "id": "6c03e2d8",
   "metadata": {},
   "source": [
    "*transfer equations here as markdown*"
   ]
  },
  {
   "cell_type": "code",
   "execution_count": 1,
   "id": "32e1c621",
   "metadata": {},
   "outputs": [],
   "source": [
    "# import statements\n",
    "\n",
    "%matplotlib inline\n",
    "\n",
    "import numpy as np\n",
    "from scipy.integrate import solve_ivp\n",
    "import matplotlib.pyplot as plt\n",
    "from matplotlib import animation, rc\n",
    "from IPython.display import HTML"
   ]
  },
  {
   "cell_type": "code",
   "execution_count": 2,
   "id": "939f5f52",
   "metadata": {},
   "outputs": [],
   "source": [
    "class GravitationalOrbit:\n",
    "    \"\"\"\n",
    "    ADD INFO\n",
    "    \n",
    "    Parameters\n",
    "    ----------\n",
    "    m_1 : float\n",
    "    m_2 : float\n",
    "    G : float\n",
    "    \n",
    "    Methods\n",
    "    -------\n",
    "    dy_dt(t, y)\n",
    "        Returns the right side of the differential equation in vector y, \n",
    "        given time t and the corresponding value of y.\n",
    "    \"\"\"\n",
    "    \n",
    "    def __init__(self, m1=1., m2=1., G=1.):\n",
    "        self.m1 = m1\n",
    "        self.m2 = m2\n",
    "        self.G = G\n",
    "    \n",
    "   \n",
    "    def dz_dt(self, t, z):\n",
    "        \"\"\"\n",
    "        This function returns the right-hand side of the diffeq: \n",
    "        [dz/dt d^2z/dt^2]\n",
    "        \n",
    "        Parameters\n",
    "        ----------\n",
    "        t : float\n",
    "            time \n",
    "        z : float\n",
    "            3-component vector with:\n",
    "                z[0] = x1(t) and z[1] = x1dot(t)\n",
    "                z[2] = x1(t) and z[3] = x1dot(t)\n",
    "                z[4] = x2(t) and z[5] = x1dot(t)\n",
    "                z[6] = x2(t) and z[7] = x1dot(t)\n",
    "                \n",
    "        Returns\n",
    "        -------\n",
    "            \n",
    "        \"\"\"\n",
    "        r = np.sqrt((z[0] - z[4])**2 + (z[2] - z[6])**2)\n",
    "        return [z[1], self.G*self.m2*(z[4] - z[0])/r**3,\n",
    "               z[3], self.G*self.m2*(z[6] - z[2])/r**3,\n",
    "               z[5], -self.G*self.m1*(z[4] - z[0])/r**3,\n",
    "               z[7], -self.G*self.m1*(z[6] - z[2])/r**3]\n",
    "    \n",
    "    def solveODE(self, t_pts, z0,\n",
    "                  abserr=1.0e-10, relerr=1.0e-10):\n",
    "        \"\"\"\n",
    "        Solve the ODE given initial conditions.\n",
    "        Use solve_ivp with the option of specifying the method.\n",
    "        Specify smaller abserr and relerr to get more precision.\n",
    "        \"\"\"\n",
    "        \n",
    "        solution = solve_ivp(self.dz_dt, (t_pts[0], t_pts[-1]), \n",
    "                             z0, t_eval=t_pts, method='RK23', \n",
    "                             atol=abserr, rtol=relerr)\n",
    "        x1, x1dot, y1, y1dot, x2, x2dot, y2, y2dot = solution.y\n",
    "        return x1, x1dot, y1, y1dot, x2, x2dot, y2, y2dot\n",
    "    \n",
    "    def solve_ode_Leapfrog(self, t_pts, z_0):\n",
    "        \"\"\"\n",
    "        Solve the ODE given initial conditions with the Leapfrog method.\n",
    "        \"\"\"\n",
    "        delta_t = t_pts[1] - t_pts[0]\n",
    "        \n",
    "        x1_0, x1dot_0, y1_0, y1dot_0, x2_0, x2dot_0, y2_0, y2dot_0 = z0\n",
    "        \n",
    "        # initialize the arrays for r, rdot, r_dot_half, phi with zeros\n",
    "        num_t_pts = len(t_pts)\n",
    "        \n",
    "        x1 = np.zeros(num_t_pts)\n",
    "        x1dot = np.zeros(num_t_pts)\n",
    "        x1dot_half = np.zeros(num_t_pts)\n",
    "        \n",
    "        y1 = np.zeros(num_t_pts)\n",
    "        y1dot = np.zeros(num_t_pts)\n",
    "        y1dot_half = np.zeros(num_t_pts)\n",
    "        \n",
    "        x2 = np.zeros(num_t_pts)\n",
    "        x2dot = np.zeros(num_t_pts)\n",
    "        x2dot_half = np.zeros(num_t_pts)\n",
    "        \n",
    "        y2 = np.zeros(num_t_pts)\n",
    "        y2dot = np.zeros(num_t_pts)\n",
    "        y2dot_half = np.zeros(num_t_pts)\n",
    "        \n",
    "        # initial conditions\n",
    "        x1[0] = x1_0\n",
    "        x1dot[0] = x1dot_0\n",
    "        \n",
    "        y1[0] = y1_0\n",
    "        y1dot[0] = y1dot_0\n",
    "        \n",
    "        x2[0] = x2_0\n",
    "        x2dot[0] = x2dot_0\n",
    "        \n",
    "        y2[0] = y2_0\n",
    "        y2dot[0] = y2dot_0\n",
    "        \n",
    "        # step through the differential equation\n",
    "        for i in np.arange(num_t_pts - 1):\n",
    "            t = t_pts[i]\n",
    "            \n",
    "            z = [x1[i], x1dot[i], y1[i], y1dot[i], x2[i], x2dot[i], y2[i], y2dot[i]]\n",
    "            out = self.dz_dt(t,z)\n",
    "            \n",
    "            x1dot_half[i] = x1dot[i] + out[1]*delta_t/2.\n",
    "            x1[i+1] = x1[i] + x1dot_half[i]*delta_t\n",
    "            \n",
    "            y1dot_half[i] = y1dot[i] + out[3]*delta_t/2.\n",
    "            y1[i+1] = y1[i] + y1dot_half[i]*delta_t\n",
    "            \n",
    "            x2dot_half[i] = x2dot[i] + out[5]*delta_t/2.\n",
    "            x2[i+1] = x2[i] + x2dot_half[i]*delta_t\n",
    "            \n",
    "            y2dot_half[i] = y2dot[i] + out[7]*delta_t/2.\n",
    "            y2[i+1] = y2[i] + y2dot_half[i]*delta_t\n",
    "            \n",
    "            z = [x1[i+1], x1dot[i], y1[i+1], y1dot[i], x2[i+1], x2dot, y2[i+1], y2dot[i]]\n",
    "            out = self.dz_dt(t,z)\n",
    "            \n",
    "            x1dot[i+1] = x1dot_half[i] + out[1]*delta_t/2.\n",
    "            y1dot[i+1] = y1dot_half[i] + out[3]*delta_t/2.\n",
    "            x2dot[i+1] = x2dot_half[i] + out[5]*delta_t/2.\n",
    "            y2dot[i+1] = y2dot_half[i] + out[7]*delta_t/2.\n",
    "            \n",
    "        return x1, x1dot, y1, y1dot, x2, x2dot, y2, y2dot  \n",
    "    \n",
    "    def solve_ode_Leapfrog_n(self, t_pts, z_0):\n",
    "        \"\"\"\n",
    "        Solve the ODE given initial conditions with the Leapfrog method. Generalized for n points.\n",
    "        \"\"\"\n",
    "        delta_t = t_pts[1] - t_pts[0]\n",
    "        \n",
    "        # initialize the arrays for r, rdot, r_dot_half, phi with zeros\n",
    "        num_t_pts = len(t_pts)\n",
    "        n_total = len(z0)\n",
    "        z = np.zeros(shape=(n_total, num_t_pts))\n",
    "        dot_half = np.zeros((int(n_total/2)))\n",
    "        \n",
    "        # initial conditions\n",
    "        z[:,0] = z0\n",
    "        \n",
    "        # step through the differential equation\n",
    "        for i in np.arange(num_t_pts - 1):\n",
    "            t = t_pts[i]\n",
    "            \n",
    "            z_now = z[:,i]\n",
    "            out = np.asarray(self.dz_dt(t,z_now)) # converting to numpy array\n",
    "            \n",
    "            dot_half = z_now[1::2] + out[1::2]*delta/2                  \n",
    "            z[0::2, i+1] = z_now[0::2] + dot_half*delta_t\n",
    "            \n",
    "            z_now[0::2] = z[0::2] + dot_half*delta_t\n",
    "            out = np.asarray(self.dz_dt(t,z_now))\n",
    "                              \n",
    "            z[1::2, i+1] = dot_half + out[1::2]*delta_t/2.\n",
    "            \n",
    "        return z "
   ]
  },
  {
   "cell_type": "code",
   "execution_count": 3,
   "id": "cf78028a",
   "metadata": {},
   "outputs": [],
   "source": [
    "def plot_y_vs_x(x, y, axis_labels=None, label=None, title=None, \n",
    "                color=None, linestyle=None, semilogy=False, loglog=False,\n",
    "                ax=None):\n",
    "    \"\"\"\n",
    "    Generic plotting function: return a figure axis with a plot of y vs. x,\n",
    "    with line color and style, title, axis labels, and line label\n",
    "    \"\"\"\n",
    "    if ax is None:        # if the axis object doesn't exist, make one\n",
    "        ax = plt.gca()\n",
    "\n",
    "    if (semilogy):\n",
    "        line, = ax.semilogy(x, y, label=label, \n",
    "                            color=color, linestyle=linestyle)\n",
    "    elif (loglog):\n",
    "        line, = ax.loglog(x, y, label=label, \n",
    "                          color=color, linestyle=linestyle)\n",
    "    else:\n",
    "        line, = ax.plot(x, y, label=label, \n",
    "                    color=color, linestyle=linestyle)\n",
    "\n",
    "    if label is not None:    # if a label if passed, show the legend\n",
    "        ax.legend()\n",
    "    if title is not None:    # set a title if one if passed\n",
    "        ax.set_title(title)\n",
    "    if axis_labels is not None:  # set x-axis and y-axis labels if passed  \n",
    "        ax.set_xlabel(axis_labels[0])\n",
    "        ax.set_ylabel(axis_labels[1])\n",
    "\n",
    "    return ax, line    "
   ]
  },
  {
   "cell_type": "code",
   "execution_count": 4,
   "id": "c3e53b72",
   "metadata": {},
   "outputs": [],
   "source": [
    "def start_stop_indices(t_pts, plot_start, plot_stop):\n",
    "    start_index = (np.fabs(t_pts-plot_start)).argmin()  # index in t_pts array \n",
    "    stop_index = (np.fabs(t_pts-plot_stop)).argmin()  # index in t_pts array \n",
    "    return start_index, stop_index"
   ]
  },
  {
   "cell_type": "code",
   "execution_count": 5,
   "id": "80f405fc",
   "metadata": {},
   "outputs": [],
   "source": [
    "# labels for plot axes \n",
    "orbitLabels = (r'$t$', r'$y$')\n",
    "\n",
    "# plotting time \n",
    "t_start = 0.\n",
    "t_end = 10.\n",
    "delta_t = 0.01\n",
    "\n",
    "t_pts = np.arange(t_start, t_end+delta_t, delta_t)"
   ]
  },
  {
   "cell_type": "code",
   "execution_count": 6,
   "id": "a43c3c90",
   "metadata": {},
   "outputs": [],
   "source": [
    "# set values for variables for orbit 1\n",
    "G = 1.\n",
    "m1 = 1.\n",
    "m2 = 5. \n",
    "\n",
    "orbit1 = GravitationalOrbit(m1=m1, m2=m2, G=G) # using above values in the GravitationalOrbit method\n",
    "\n",
    "x1_0, x1dot_0 = 1., -1 # setting inital x1 value and initial rate of change of x1\n",
    "y1_0, y1dot_0 = 1., 1. # setting inital y1 value and initial rate of change of y1\n",
    "x2_0, x2dot_0 = -(m1/m2)*x1_0, -(m1/m2)*x1dot_0 # setting the initial x2 value and initial rate of change of x2\n",
    "y2_0, y2dot_0 = -(m1/m2)*y1_0, -(m1/m2)*y1dot_0 # setting inital y2 value and initial rate of change of y2\n",
    "\n",
    "# taking the above initializations to define the overall initial z position and rate of change\n",
    "z0 = [x1_0, x1dot_0, y1_0, y1dot_0, x2_0, x2dot_0, y2_0, y2dot_0] \n",
    "\n",
    "# from the orbit produced above, use the range of time and initalized z position and rate of change \n",
    "# with to solve the ODE for the values as time passes\n",
    "# returns arrays for each value\n",
    "x1, x1dot, y1, y1dot, x2, x2dot, y2, y2dot = orbit1.solveODE(t_pts, z0)"
   ]
  },
  {
   "cell_type": "code",
   "execution_count": 7,
   "id": "e3f0e7a8",
   "metadata": {},
   "outputs": [
    {
     "data": {
      "image/png": "[encoded data removed]",
      "text/plain": [
       "<Figure size 500x500 with 1 Axes>"
      ]
     },
     "metadata": {},
     "output_type": "display_data"
    }
   ],
   "source": [
    "# starting the figure\n",
    "fig = plt.figure(figsize=(5,5))\n",
    "\n",
    "# first plotting the orbit\n",
    "ax = fig.add_subplot(1,1,1)\n",
    "\n",
    "start, stop = start_stop_indices(t_pts, t_start, t_end)   \n",
    "ax.plot(x1, y1, color='blue', label=r'$m1$') \n",
    "ax.plot(x2, y2, color='orange', label=r'$m2$') \n",
    "ax.set_title('Gravitational Orbit')\n",
    "ax.legend()\n",
    "ax.set_aspect(1)\n",
    "\n",
    "fig.tight_layout()"
   ]
  },
  {
   "cell_type": "code",
   "execution_count": 8,
   "id": "ccc8280d",
   "metadata": {},
   "outputs": [],
   "source": [
    "t_start = 0.\n",
    "t_end = 20.\n",
    "delta_t = 0.00001\n",
    "\n",
    "t_pts = np.arange(t_start, t_end+delta_t, delta_t)"
   ]
  },
  {
   "cell_type": "code",
   "execution_count": 9,
   "id": "e476a10c",
   "metadata": {},
   "outputs": [],
   "source": [
    "G = 20.\n",
    "m1 = 20.\n",
    "m2 = 1. \n",
    "\n",
    "orbit1 = GravitationalOrbit(m1=m1, m2=m2, G=G)\n",
    "\n",
    "x1_0, x1dot_0 = 0.1, 0.\n",
    "y1_0, y1dot_0 = 0., 0.75\n",
    "x2_0, x2dot_0 = -(m1/m2)*x1_0, -(m1/m2)*x1dot_0\n",
    "y2_0, y2dot_0 = -(m1/m2)*y1_0, -(m1/m2)*y1dot_0\n",
    "\n",
    "z0 = [x1_0, x1dot_0, y1_0, y1dot_0, x2_0, x2dot_0, y2_0, y2dot_0]\n",
    "x1, x1dot, y1, y1dot, x2, x2dot, y2, y2dot = orbit1.solveODE(t_pts, z0)"
   ]
  },
  {
   "cell_type": "code",
   "execution_count": 10,
   "id": "07c431d4",
   "metadata": {},
   "outputs": [
    {
     "data": {
      "image/png": "[encoded data removed]",
      "text/plain": [
       "<Figure size 500x500 with 1 Axes>"
      ]
     },
     "metadata": {},
     "output_type": "display_data"
    }
   ],
   "source": [
    "# starting the figure\n",
    "fig = plt.figure(figsize=(5,5))\n",
    "\n",
    "# first plotting the orbit\n",
    "ax = fig.add_subplot(1,1,1)\n",
    "\n",
    "start, stop = start_stop_indices(t_pts, t_start, t_end)    \n",
    "ax.plot(x1, y1, color='blue', label=r'$m1$')  \n",
    "ax.plot(x2, y2, color='orange', label=r'$m2$') \n",
    "ax.set_title('Gravitational Orbit')\n",
    "ax.legend()\n",
    "ax.set_aspect(1)\n",
    "\n",
    "fig.tight_layout()"
   ]
  },
  {
   "cell_type": "code",
   "execution_count": 11,
   "id": "cdb71e42",
   "metadata": {},
   "outputs": [],
   "source": [
    "t_start = 0.\n",
    "t_end = 50.\n",
    "delta_t = 0.01\n",
    "\n",
    "t_pts = np.arange(t_start, t_end+delta_t, delta_t)"
   ]
  },
  {
   "cell_type": "code",
   "execution_count": 12,
   "id": "15bd0172",
   "metadata": {},
   "outputs": [],
   "source": [
    "G = 10.\n",
    "m1 = 1.\n",
    "m2 = 1. \n",
    "\n",
    "orbit1 = GravitationalOrbit(m1=m1, m2=m2, G=G)\n",
    "\n",
    "x1_0, x1dot_0 = 1., 0.\n",
    "y1_0, y1dot_0 = 0., 1.\n",
    "x2_0, x2dot_0 = -(m1/m2)*x1_0, -(m1/m2)*x1dot_0\n",
    "y2_0, y2dot_0 = -(m1/m2)*y1_0, -(m1/m2)*y1dot_0\n",
    "\n",
    "z0 = [x1_0, x1dot_0, y1_0, y1dot_0, x2_0, x2dot_0, y2_0, y2dot_0]\n",
    "x1, x1dot, y1, y1dot, x2, x2dot, y2, y2dot = orbit1.solveODE(t_pts, z0)"
   ]
  },
  {
   "cell_type": "code",
   "execution_count": 13,
   "id": "5f27f3ce",
   "metadata": {},
   "outputs": [
    {
     "data": {
      "image/png": "[encoded data removed]",
      "text/plain": [
       "<Figure size 500x500 with 1 Axes>"
      ]
     },
     "metadata": {},
     "output_type": "display_data"
    }
   ],
   "source": [
    "# starting the figure\n",
    "fig = plt.figure(figsize=(5,5))\n",
    "\n",
    "# first plotting the orbit\n",
    "ax = fig.add_subplot(1,1,1)\n",
    "\n",
    "start, stop = start_stop_indices(t_pts, t_start, t_end)    \n",
    "ax.plot(x1, y1, color='blue', label=r'$m1$')  \n",
    "ax.plot(x2, y2, color='orange', label=r'$m2$') \n",
    "ax.set_title('Gravitational Orbit')\n",
    "ax.legend()\n",
    "ax.set_aspect(1)\n",
    "\n",
    "fig.tight_layout()"
   ]
  },
  {
   "cell_type": "code",
   "execution_count": 14,
   "id": "650332a1",
   "metadata": {},
   "outputs": [],
   "source": [
    "%%capture\n",
    "\n",
    "xMin = -3.2\n",
    "xMax = -xMin\n",
    "yMin = -3.2\n",
    "yMax = -yMin\n",
    "\n",
    "fig_anim = plt.figure(figsize=(5,5), num='Gravitational Orbit')\n",
    "ax_anim = fig_anim.add_subplot(1,1,1)\n",
    "ax_anim.set_xlim(xMin, xMax)\n",
    "ax_anim.set_ylim(yMin, yMax)\n",
    "\n",
    "ln1_anim, = ax_anim.plot(x1, y1, color='blue', lw=3)\n",
    "pt1_anim, = ax_anim.plot(x1[0], y1[0], \n",
    "                         \"o\", markersize=12, \n",
    "                         color='blue')\n",
    "\n",
    "ln2_anim, = ax_anim.plot(x2, y2, color='orange', lw=3)\n",
    "pt2_anim, = ax_anim.plot(x2[0], y2[0], \n",
    "                        \"o\", markersize=12, \n",
    "                         color='orange')\n",
    "ax_anim.set_aspect(1)\n",
    "ax_anim.axis('off')                  \n",
    "fig_anim.tight_layout()"
   ]
  },
  {
   "cell_type": "code",
   "execution_count": 15,
   "id": "681d1005",
   "metadata": {},
   "outputs": [],
   "source": [
    "def animateOrbit(i):\n",
    "    \"\"\"This is the function called by FuncAnimation to create each frame,\n",
    "        numbered by i.  So each i corresponds to a point in the t_pts\n",
    "        array, with index i.\n",
    "    \"\"\"\n",
    "    i_skip = 1*i\n",
    "    \n",
    "    pt1_anim.set_data(x1[i_skip], y1[i_skip])\n",
    "    pt2_anim.set_data(x2[i_skip], y2[i_skip])\n",
    "    \n",
    "    return (pt1_anim, pt2_anim)"
   ]
  },
  {
   "cell_type": "code",
   "execution_count": 16,
   "id": "fe7cd85a",
   "metadata": {},
   "outputs": [],
   "source": [
    "frame_interval = 20.  # time between frames\n",
    "frame_number = 10001    # number of frames to include (index of t_pts)\n",
    "anim = animation.FuncAnimation(fig_anim, \n",
    "                               animateOrbit, \n",
    "                               init_func=None,\n",
    "                               frames=frame_number, \n",
    "                               interval=frame_interval, \n",
    "                               blit=True,\n",
    "                               repeat=False)"
   ]
  },
  {
   "cell_type": "code",
   "execution_count": 17,
   "id": "d1d35040",
   "metadata": {
    "scrolled": true
   },
   "outputs": [
    {
     "name": "stderr",
     "output_type": "stream",
     "text": [
      "Animation size has reached 20974281 bytes, exceeding the limit of 20971520.0. If you're sure you want a larger animation embedded, set the animation.embed_limit rc parameter to a larger value (in MB). This and further frames will be dropped.\n"
     ]
    },
    {
     "ename": "IndexError",
     "evalue": "index 5001 is out of bounds for axis 0 with size 5001",
     "output_type": "error",
     "traceback": [
      "\u001b[0;31m---------------------------------------------------------------------------\u001b[0m",
      "\u001b[0;31mIndexError\u001b[0m                                Traceback (most recent call last)",
      "\u001b[0;32m/var/folders/y5/drjbzgtn1k51b51f__37ql3r0000gn/T/ipykernel_30530/2436554602.py\u001b[0m in \u001b[0;36m<module>\u001b[0;34m\u001b[0m\n\u001b[0;32m----> 1\u001b[0;31m \u001b[0mHTML\u001b[0m\u001b[0;34m(\u001b[0m\u001b[0manim\u001b[0m\u001b[0;34m.\u001b[0m\u001b[0mto_jshtml\u001b[0m\u001b[0;34m(\u001b[0m\u001b[0;34m)\u001b[0m\u001b[0;34m)\u001b[0m\u001b[0;34m\u001b[0m\u001b[0;34m\u001b[0m\u001b[0m\n\u001b[0m",
      "\u001b[0;32m~/opt/anaconda3/lib/python3.9/site-packages/matplotlib/animation.py\u001b[0m in \u001b[0;36mto_jshtml\u001b[0;34m(self, fps, embed_frames, default_mode)\u001b[0m\n\u001b[1;32m   1329\u001b[0m                                     \u001b[0membed_frames\u001b[0m\u001b[0;34m=\u001b[0m\u001b[0membed_frames\u001b[0m\u001b[0;34m,\u001b[0m\u001b[0;34m\u001b[0m\u001b[0;34m\u001b[0m\u001b[0m\n\u001b[1;32m   1330\u001b[0m                                     default_mode=default_mode)\n\u001b[0;32m-> 1331\u001b[0;31m                 \u001b[0mself\u001b[0m\u001b[0;34m.\u001b[0m\u001b[0msave\u001b[0m\u001b[0;34m(\u001b[0m\u001b[0mstr\u001b[0m\u001b[0;34m(\u001b[0m\u001b[0mpath\u001b[0m\u001b[0;34m)\u001b[0m\u001b[0;34m,\u001b[0m \u001b[0mwriter\u001b[0m\u001b[0;34m=\u001b[0m\u001b[0mwriter\u001b[0m\u001b[0;34m)\u001b[0m\u001b[0;34m\u001b[0m\u001b[0;34m\u001b[0m\u001b[0m\n\u001b[0m\u001b[1;32m   1332\u001b[0m                 \u001b[0mself\u001b[0m\u001b[0;34m.\u001b[0m\u001b[0m_html_representation\u001b[0m \u001b[0;34m=\u001b[0m \u001b[0mpath\u001b[0m\u001b[0;34m.\u001b[0m\u001b[0mread_text\u001b[0m\u001b[0;34m(\u001b[0m\u001b[0;34m)\u001b[0m\u001b[0;34m\u001b[0m\u001b[0;34m\u001b[0m\u001b[0m\n\u001b[1;32m   1333\u001b[0m \u001b[0;34m\u001b[0m\u001b[0m\n",
      "\u001b[0;32m~/opt/anaconda3/lib/python3.9/site-packages/matplotlib/animation.py\u001b[0m in \u001b[0;36msave\u001b[0;34m(self, filename, writer, fps, dpi, codec, bitrate, extra_args, metadata, extra_anim, savefig_kwargs, progress_callback)\u001b[0m\n\u001b[1;32m   1087\u001b[0m                 \u001b[0;32mfor\u001b[0m \u001b[0manim\u001b[0m\u001b[0;34m,\u001b[0m \u001b[0md\u001b[0m \u001b[0;32min\u001b[0m \u001b[0mzip\u001b[0m\u001b[0;34m(\u001b[0m\u001b[0mall_anim\u001b[0m\u001b[0;34m,\u001b[0m \u001b[0mdata\u001b[0m\u001b[0;34m)\u001b[0m\u001b[0;34m:\u001b[0m\u001b[0;34m\u001b[0m\u001b[0;34m\u001b[0m\u001b[0m\n\u001b[1;32m   1088\u001b[0m                     \u001b[0;31m# TODO: See if turning off blit is really necessary\u001b[0m\u001b[0;34m\u001b[0m\u001b[0;34m\u001b[0m\u001b[0m\n\u001b[0;32m-> 1089\u001b[0;31m                     \u001b[0manim\u001b[0m\u001b[0;34m.\u001b[0m\u001b[0m_draw_next_frame\u001b[0m\u001b[0;34m(\u001b[0m\u001b[0md\u001b[0m\u001b[0;34m,\u001b[0m \u001b[0mblit\u001b[0m\u001b[0;34m=\u001b[0m\u001b[0;32mFalse\u001b[0m\u001b[0;34m)\u001b[0m\u001b[0;34m\u001b[0m\u001b[0;34m\u001b[0m\u001b[0m\n\u001b[0m\u001b[1;32m   1090\u001b[0m                     \u001b[0;32mif\u001b[0m \u001b[0mprogress_callback\u001b[0m \u001b[0;32mis\u001b[0m \u001b[0;32mnot\u001b[0m \u001b[0;32mNone\u001b[0m\u001b[0;34m:\u001b[0m\u001b[0;34m\u001b[0m\u001b[0;34m\u001b[0m\u001b[0m\n\u001b[1;32m   1091\u001b[0m                         \u001b[0mprogress_callback\u001b[0m\u001b[0;34m(\u001b[0m\u001b[0mframe_number\u001b[0m\u001b[0;34m,\u001b[0m \u001b[0mtotal_frames\u001b[0m\u001b[0;34m)\u001b[0m\u001b[0;34m\u001b[0m\u001b[0;34m\u001b[0m\u001b[0m\n",
      "\u001b[0;32m~/opt/anaconda3/lib/python3.9/site-packages/matplotlib/animation.py\u001b[0m in \u001b[0;36m_draw_next_frame\u001b[0;34m(self, framedata, blit)\u001b[0m\n\u001b[1;32m   1122\u001b[0m         \u001b[0;31m# post- draw, as well as the drawing of the frame itself.\u001b[0m\u001b[0;34m\u001b[0m\u001b[0;34m\u001b[0m\u001b[0m\n\u001b[1;32m   1123\u001b[0m         \u001b[0mself\u001b[0m\u001b[0;34m.\u001b[0m\u001b[0m_pre_draw\u001b[0m\u001b[0;34m(\u001b[0m\u001b[0mframedata\u001b[0m\u001b[0;34m,\u001b[0m \u001b[0mblit\u001b[0m\u001b[0;34m)\u001b[0m\u001b[0;34m\u001b[0m\u001b[0;34m\u001b[0m\u001b[0m\n\u001b[0;32m-> 1124\u001b[0;31m         \u001b[0mself\u001b[0m\u001b[0;34m.\u001b[0m\u001b[0m_draw_frame\u001b[0m\u001b[0;34m(\u001b[0m\u001b[0mframedata\u001b[0m\u001b[0;34m)\u001b[0m\u001b[0;34m\u001b[0m\u001b[0;34m\u001b[0m\u001b[0m\n\u001b[0m\u001b[1;32m   1125\u001b[0m         \u001b[0mself\u001b[0m\u001b[0;34m.\u001b[0m\u001b[0m_post_draw\u001b[0m\u001b[0;34m(\u001b[0m\u001b[0mframedata\u001b[0m\u001b[0;34m,\u001b[0m \u001b[0mblit\u001b[0m\u001b[0;34m)\u001b[0m\u001b[0;34m\u001b[0m\u001b[0;34m\u001b[0m\u001b[0m\n\u001b[1;32m   1126\u001b[0m \u001b[0;34m\u001b[0m\u001b[0m\n",
      "\u001b[0;32m~/opt/anaconda3/lib/python3.9/site-packages/matplotlib/animation.py\u001b[0m in \u001b[0;36m_draw_frame\u001b[0;34m(self, framedata)\u001b[0m\n\u001b[1;32m   1716\u001b[0m         \u001b[0;31m# Call the func with framedata and args. If blitting is desired,\u001b[0m\u001b[0;34m\u001b[0m\u001b[0;34m\u001b[0m\u001b[0m\n\u001b[1;32m   1717\u001b[0m         \u001b[0;31m# func needs to return a sequence of any artists that were modified.\u001b[0m\u001b[0;34m\u001b[0m\u001b[0;34m\u001b[0m\u001b[0m\n\u001b[0;32m-> 1718\u001b[0;31m         \u001b[0mself\u001b[0m\u001b[0;34m.\u001b[0m\u001b[0m_drawn_artists\u001b[0m \u001b[0;34m=\u001b[0m \u001b[0mself\u001b[0m\u001b[0;34m.\u001b[0m\u001b[0m_func\u001b[0m\u001b[0;34m(\u001b[0m\u001b[0mframedata\u001b[0m\u001b[0;34m,\u001b[0m \u001b[0;34m*\u001b[0m\u001b[0mself\u001b[0m\u001b[0;34m.\u001b[0m\u001b[0m_args\u001b[0m\u001b[0;34m)\u001b[0m\u001b[0;34m\u001b[0m\u001b[0;34m\u001b[0m\u001b[0m\n\u001b[0m\u001b[1;32m   1719\u001b[0m \u001b[0;34m\u001b[0m\u001b[0m\n\u001b[1;32m   1720\u001b[0m         \u001b[0;32mif\u001b[0m \u001b[0mself\u001b[0m\u001b[0;34m.\u001b[0m\u001b[0m_blit\u001b[0m\u001b[0;34m:\u001b[0m\u001b[0;34m\u001b[0m\u001b[0;34m\u001b[0m\u001b[0m\n",
      "\u001b[0;32m/var/folders/y5/drjbzgtn1k51b51f__37ql3r0000gn/T/ipykernel_30530/1206397480.py\u001b[0m in \u001b[0;36manimateOrbit\u001b[0;34m(i)\u001b[0m\n\u001b[1;32m      6\u001b[0m     \u001b[0mi_skip\u001b[0m \u001b[0;34m=\u001b[0m \u001b[0;36m1\u001b[0m\u001b[0;34m*\u001b[0m\u001b[0mi\u001b[0m\u001b[0;34m\u001b[0m\u001b[0;34m\u001b[0m\u001b[0m\n\u001b[1;32m      7\u001b[0m \u001b[0;34m\u001b[0m\u001b[0m\n\u001b[0;32m----> 8\u001b[0;31m     \u001b[0mpt1_anim\u001b[0m\u001b[0;34m.\u001b[0m\u001b[0mset_data\u001b[0m\u001b[0;34m(\u001b[0m\u001b[0mx1\u001b[0m\u001b[0;34m[\u001b[0m\u001b[0mi_skip\u001b[0m\u001b[0;34m]\u001b[0m\u001b[0;34m,\u001b[0m \u001b[0my1\u001b[0m\u001b[0;34m[\u001b[0m\u001b[0mi_skip\u001b[0m\u001b[0;34m]\u001b[0m\u001b[0;34m)\u001b[0m\u001b[0;34m\u001b[0m\u001b[0;34m\u001b[0m\u001b[0m\n\u001b[0m\u001b[1;32m      9\u001b[0m     \u001b[0mpt2_anim\u001b[0m\u001b[0;34m.\u001b[0m\u001b[0mset_data\u001b[0m\u001b[0;34m(\u001b[0m\u001b[0mx2\u001b[0m\u001b[0;34m[\u001b[0m\u001b[0mi_skip\u001b[0m\u001b[0;34m]\u001b[0m\u001b[0;34m,\u001b[0m \u001b[0my2\u001b[0m\u001b[0;34m[\u001b[0m\u001b[0mi_skip\u001b[0m\u001b[0;34m]\u001b[0m\u001b[0;34m)\u001b[0m\u001b[0;34m\u001b[0m\u001b[0;34m\u001b[0m\u001b[0m\n\u001b[1;32m     10\u001b[0m \u001b[0;34m\u001b[0m\u001b[0m\n",
      "\u001b[0;31mIndexError\u001b[0m: index 5001 is out of bounds for axis 0 with size 5001"
     ]
    }
   ],
   "source": [
    "HTML(anim.to_jshtml())"
   ]
  }
 ],
 "metadata": {
  "kernelspec": {
   "display_name": "Python 3 (ipykernel)",
   "language": "python",
   "name": "python3"
  },
  "language_info": {
   "codemirror_mode": {
    "name": "ipython",
    "version": 3
   },
   "file_extension": ".py",
   "mimetype": "text/x-python",
   "name": "python",
   "nbconvert_exporter": "python",
   "pygments_lexer": "ipython3",
   "version": "3.9.13"
  }
 },
 "nbformat": 4,
 "nbformat_minor": 5
}
